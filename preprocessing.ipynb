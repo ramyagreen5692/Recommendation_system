{
 "cells": [
  {
   "cell_type": "code",
   "execution_count": null,
   "id": "fbc06054",
   "metadata": {},
   "outputs": [
    {
     "data": {
      "text/html": [
       "<div>\n",
       "<style scoped>\n",
       "    .dataframe tbody tr th:only-of-type {\n",
       "        vertical-align: middle;\n",
       "    }\n",
       "\n",
       "    .dataframe tbody tr th {\n",
       "        vertical-align: top;\n",
       "    }\n",
       "\n",
       "    .dataframe thead th {\n",
       "        text-align: right;\n",
       "    }\n",
       "</style>\n",
       "<table border=\"1\" class=\"dataframe\">\n",
       "  <thead>\n",
       "    <tr style=\"text-align: right;\">\n",
       "      <th></th>\n",
       "      <th>id</th>\n",
       "      <th>name</th>\n",
       "      <th>city</th>\n",
       "      <th>rating</th>\n",
       "      <th>rating_count</th>\n",
       "      <th>cost</th>\n",
       "      <th>cuisine</th>\n",
       "      <th>lic_no</th>\n",
       "      <th>link</th>\n",
       "      <th>address</th>\n",
       "      <th>menu</th>\n",
       "    </tr>\n",
       "  </thead>\n",
       "  <tbody>\n",
       "    <tr>\n",
       "      <th>0</th>\n",
       "      <td>567335</td>\n",
       "      <td>AB FOODS POINT</td>\n",
       "      <td>Abohar</td>\n",
       "      <td>--</td>\n",
       "      <td>Too Few Ratings</td>\n",
       "      <td>₹ 200</td>\n",
       "      <td>Beverages,Pizzas</td>\n",
       "      <td>22122652000138</td>\n",
       "      <td>https://www.swiggy.com/restaurants/ab-foods-po...</td>\n",
       "      <td>AB FOODS POINT, NEAR RISHI NARANG DENTAL CLINI...</td>\n",
       "      <td>Menu/567335.json</td>\n",
       "    </tr>\n",
       "    <tr>\n",
       "      <th>1</th>\n",
       "      <td>531342</td>\n",
       "      <td>Janta Sweet House</td>\n",
       "      <td>Abohar</td>\n",
       "      <td>4.4</td>\n",
       "      <td>50+ ratings</td>\n",
       "      <td>₹ 200</td>\n",
       "      <td>Sweets,Bakery</td>\n",
       "      <td>12117201000112</td>\n",
       "      <td>https://www.swiggy.com/restaurants/janta-sweet...</td>\n",
       "      <td>Janta Sweet House, Bazar No.9, Circullar Road,...</td>\n",
       "      <td>Menu/531342.json</td>\n",
       "    </tr>\n",
       "    <tr>\n",
       "      <th>2</th>\n",
       "      <td>158203</td>\n",
       "      <td>theka coffee desi</td>\n",
       "      <td>Abohar</td>\n",
       "      <td>3.8</td>\n",
       "      <td>100+ ratings</td>\n",
       "      <td>₹ 100</td>\n",
       "      <td>Beverages</td>\n",
       "      <td>22121652000190</td>\n",
       "      <td>https://www.swiggy.com/restaurants/theka-coffe...</td>\n",
       "      <td>theka coffee desi, sahtiya sadan road city</td>\n",
       "      <td>Menu/158203.json</td>\n",
       "    </tr>\n",
       "    <tr>\n",
       "      <th>3</th>\n",
       "      <td>187912</td>\n",
       "      <td>Singh Hut</td>\n",
       "      <td>Abohar</td>\n",
       "      <td>3.7</td>\n",
       "      <td>20+ ratings</td>\n",
       "      <td>₹ 250</td>\n",
       "      <td>Fast Food,Indian</td>\n",
       "      <td>22119652000167</td>\n",
       "      <td>https://www.swiggy.com/restaurants/singh-hut-n...</td>\n",
       "      <td>Singh Hut, CIRCULAR ROAD NEAR NEHRU PARK ABOHAR</td>\n",
       "      <td>Menu/187912.json</td>\n",
       "    </tr>\n",
       "    <tr>\n",
       "      <th>4</th>\n",
       "      <td>543530</td>\n",
       "      <td>GRILL MASTERS</td>\n",
       "      <td>Abohar</td>\n",
       "      <td>--</td>\n",
       "      <td>Too Few Ratings</td>\n",
       "      <td>₹ 250</td>\n",
       "      <td>Italian-American,Fast Food</td>\n",
       "      <td>12122201000053</td>\n",
       "      <td>https://www.swiggy.com/restaurants/grill-maste...</td>\n",
       "      <td>GRILL MASTERS, ADA Heights, Abohar - Hanumanga...</td>\n",
       "      <td>Menu/543530.json</td>\n",
       "    </tr>\n",
       "  </tbody>\n",
       "</table>\n",
       "</div>"
      ],
      "text/plain": [
       "       id               name    city rating     rating_count   cost  \\\n",
       "0  567335     AB FOODS POINT  Abohar     --  Too Few Ratings  ₹ 200   \n",
       "1  531342  Janta Sweet House  Abohar    4.4      50+ ratings  ₹ 200   \n",
       "2  158203  theka coffee desi  Abohar    3.8     100+ ratings  ₹ 100   \n",
       "3  187912          Singh Hut  Abohar    3.7      20+ ratings  ₹ 250   \n",
       "4  543530      GRILL MASTERS  Abohar     --  Too Few Ratings  ₹ 250   \n",
       "\n",
       "                      cuisine          lic_no  \\\n",
       "0            Beverages,Pizzas  22122652000138   \n",
       "1               Sweets,Bakery  12117201000112   \n",
       "2                   Beverages  22121652000190   \n",
       "3            Fast Food,Indian  22119652000167   \n",
       "4  Italian-American,Fast Food  12122201000053   \n",
       "\n",
       "                                                link  \\\n",
       "0  https://www.swiggy.com/restaurants/ab-foods-po...   \n",
       "1  https://www.swiggy.com/restaurants/janta-sweet...   \n",
       "2  https://www.swiggy.com/restaurants/theka-coffe...   \n",
       "3  https://www.swiggy.com/restaurants/singh-hut-n...   \n",
       "4  https://www.swiggy.com/restaurants/grill-maste...   \n",
       "\n",
       "                                             address              menu  \n",
       "0  AB FOODS POINT, NEAR RISHI NARANG DENTAL CLINI...  Menu/567335.json  \n",
       "1  Janta Sweet House, Bazar No.9, Circullar Road,...  Menu/531342.json  \n",
       "2         theka coffee desi, sahtiya sadan road city  Menu/158203.json  \n",
       "3    Singh Hut, CIRCULAR ROAD NEAR NEHRU PARK ABOHAR  Menu/187912.json  \n",
       "4  GRILL MASTERS, ADA Heights, Abohar - Hanumanga...  Menu/543530.json  "
      ]
     },
     "execution_count": 1,
     "metadata": {},
     "output_type": "execute_result"
    }
   ],
   "source": [
    "#Data loading and cleaning\n",
    "import pandas as pd\n",
    "\n",
    "# Load dataset\n",
    "df = pd.read_csv(r\"D:\\Swiggy\\data\\swiggy.csv\")\n",
    "df.head()"
   ]
  },
  {
   "cell_type": "code",
   "execution_count": 6,
   "id": "24a7a6b6",
   "metadata": {},
   "outputs": [
    {
     "name": "stdout",
     "output_type": "stream",
     "text": [
      "<class 'pandas.core.frame.DataFrame'>\n",
      "RangeIndex: 148541 entries, 0 to 148540\n",
      "Data columns (total 11 columns):\n",
      " #   Column        Non-Null Count   Dtype \n",
      "---  ------        --------------   ----- \n",
      " 0   id            148541 non-null  int64 \n",
      " 1   name          148455 non-null  object\n",
      " 2   city          148541 non-null  object\n",
      " 3   rating        148455 non-null  object\n",
      " 4   rating_count  148455 non-null  object\n",
      " 5   cost          148410 non-null  object\n",
      " 6   cuisine       148442 non-null  object\n",
      " 7   lic_no        148312 non-null  object\n",
      " 8   link          148541 non-null  object\n",
      " 9   address       148455 non-null  object\n",
      " 10  menu          148541 non-null  object\n",
      "dtypes: int64(1), object(10)\n",
      "memory usage: 12.5+ MB\n"
     ]
    },
    {
     "data": {
      "text/plain": [
       "(148541, 11)"
      ]
     },
     "execution_count": 6,
     "metadata": {},
     "output_type": "execute_result"
    }
   ],
   "source": [
    "df.info()\n",
    "df.shape"
   ]
  },
  {
   "cell_type": "code",
   "execution_count": 3,
   "id": "75850ea9",
   "metadata": {},
   "outputs": [
    {
     "data": {
      "text/html": [
       "<div>\n",
       "<style scoped>\n",
       "    .dataframe tbody tr th:only-of-type {\n",
       "        vertical-align: middle;\n",
       "    }\n",
       "\n",
       "    .dataframe tbody tr th {\n",
       "        vertical-align: top;\n",
       "    }\n",
       "\n",
       "    .dataframe thead th {\n",
       "        text-align: right;\n",
       "    }\n",
       "</style>\n",
       "<table border=\"1\" class=\"dataframe\">\n",
       "  <thead>\n",
       "    <tr style=\"text-align: right;\">\n",
       "      <th></th>\n",
       "      <th>id</th>\n",
       "    </tr>\n",
       "  </thead>\n",
       "  <tbody>\n",
       "    <tr>\n",
       "      <th>count</th>\n",
       "      <td>148541.000000</td>\n",
       "    </tr>\n",
       "    <tr>\n",
       "      <th>mean</th>\n",
       "      <td>363466.378912</td>\n",
       "    </tr>\n",
       "    <tr>\n",
       "      <th>std</th>\n",
       "      <td>167890.977174</td>\n",
       "    </tr>\n",
       "    <tr>\n",
       "      <th>min</th>\n",
       "      <td>211.000000</td>\n",
       "    </tr>\n",
       "    <tr>\n",
       "      <th>25%</th>\n",
       "      <td>233320.000000</td>\n",
       "    </tr>\n",
       "    <tr>\n",
       "      <th>50%</th>\n",
       "      <td>412628.000000</td>\n",
       "    </tr>\n",
       "    <tr>\n",
       "      <th>75%</th>\n",
       "      <td>502223.000000</td>\n",
       "    </tr>\n",
       "    <tr>\n",
       "      <th>max</th>\n",
       "      <td>581031.000000</td>\n",
       "    </tr>\n",
       "  </tbody>\n",
       "</table>\n",
       "</div>"
      ],
      "text/plain": [
       "                  id\n",
       "count  148541.000000\n",
       "mean   363466.378912\n",
       "std    167890.977174\n",
       "min       211.000000\n",
       "25%    233320.000000\n",
       "50%    412628.000000\n",
       "75%    502223.000000\n",
       "max    581031.000000"
      ]
     },
     "execution_count": 3,
     "metadata": {},
     "output_type": "execute_result"
    }
   ],
   "source": [
    "df.describe()"
   ]
  },
  {
   "cell_type": "code",
   "execution_count": null,
   "id": "f47a546b",
   "metadata": {},
   "outputs": [],
   "source": [
    "#Removing duplicates\n",
    "df = df.drop_duplicates()"
   ]
  },
  {
   "cell_type": "code",
   "execution_count": 7,
   "id": "e70d2c8b",
   "metadata": {},
   "outputs": [
    {
     "name": "stdout",
     "output_type": "stream",
     "text": [
      "After dropping rows with missing values: (148255, 11)\n"
     ]
    }
   ],
   "source": [
    "# Drop rows with missing values\n",
    "df = df.dropna(subset=['name', 'rating', 'rating_count', 'cost', 'cuisine', 'address', 'lic_no'])\n",
    "print(\"After dropping rows with missing values:\", df.shape)"
   ]
  },
  {
   "cell_type": "code",
   "execution_count": 11,
   "id": "f0dbf56a",
   "metadata": {},
   "outputs": [
    {
     "name": "stdout",
     "output_type": "stream",
     "text": [
      "Cleaning complete. Cleaned data saved as 'cleaned_data.csv'\n"
     ]
    }
   ],
   "source": [
    "import numpy as np\n",
    "\n",
    "#clean rating\n",
    "df = df[df['rating'] != '--']\n",
    "df['rating'] = df['rating'].astype(float)\n",
    "\n",
    "#Clean Cost\n",
    "df['cost'] = df['cost'].astype(str)\n",
    "df['cost'] = df['cost'].str.replace('₹', '', regex=False).str.replace(',', '', regex=False)\n",
    "df['cost'] = df['cost'].astype(int)\n",
    "\n",
    "#Clean rating count\n",
    "def cleaned_rc(value):\n",
    "    value = str(value).strip().lower()\n",
    "    if 'too few' in value:\n",
    "        return 0\n",
    "    elif 'k' in value:\n",
    "        try:\n",
    "            num = float(value.split('k')[0])\n",
    "            return int(num * 1000)\n",
    "        except:\n",
    "            return 0\n",
    "    elif '+' in value:\n",
    "        try:\n",
    "            return int(value.split('+')[0].strip())\n",
    "        except:\n",
    "            return 0\n",
    "    else:\n",
    "        try:\n",
    "            return int(value)\n",
    "        except:\n",
    "            return 0\n",
    "\n",
    "\n",
    "df['rating_count'] = df['rating_count'].apply(cleaned_rc)\n",
    "\n",
    "df.reset_index(drop=True, inplace=True)\n",
    "\n",
    "#Save cleaned data\n",
    "df.to_csv(r\"D:\\Swiggy\\data\\cleaned_data.csv\", index=False)\n",
    "\n",
    "print(\"Cleaning complete. Cleaned data saved as 'cleaned_data.csv'\")\n"
   ]
  },
  {
   "cell_type": "code",
   "execution_count": null,
   "id": "80342da9",
   "metadata": {},
   "outputs": [
    {
     "name": "stdout",
     "output_type": "stream",
     "text": [
      " Encoded data saved successfully!\n"
     ]
    }
   ],
   "source": [
    "import pandas as pd\n",
    "from sklearn.preprocessing import OneHotEncoder\n",
    "\n",
    "\n",
    "# Load the cleaned data\n",
    "cleaned_df = pd.read_csv(r\"D:\\Swiggy\\data\\cleaned_data.csv\")\n",
    "\n",
    "df_encoded = cleaned_df.copy()\n",
    "\n",
    "# Split multiple cuisines into separate rows\n",
    "df_encoded['cuisine'] = df_encoded['cuisine'].str.split(', ')\n",
    "df_encoded = df_encoded.explode('cuisine')\n",
    "\n",
    "# One-hot encode 'city' and 'cuisine'\n",
    "df_ohe = pd.get_dummies(df_encoded[['city', 'cuisine']], prefix=['city', 'cuisine'])\n",
    "\n",
    "# Drop original 'city' and 'cuisine' columns and join encoded columns\n",
    "df_encoded = df_encoded.drop(columns=['city', 'cuisine'])\n",
    "df_encoded = pd.concat([df_encoded, df_ohe], axis=1)\n",
    "\n",
    "# Save the encoded data\n",
    "df_encoded.to_csv(r\"D:\\Swiggy\\data\\encoded_data.csv\", index=False)\n",
    "print(\" Encoded data saved successfully!\")\n"
   ]
  },
  {
   "cell_type": "code",
   "execution_count": 13,
   "id": "7d45925c",
   "metadata": {},
   "outputs": [
    {
     "name": "stdout",
     "output_type": "stream",
     "text": [
      "pkl file saved successfully\n"
     ]
    }
   ],
   "source": [
    "import pickle\n",
    "\n",
    "# Save the pkl file\n",
    "encoder = df_encoded.columns.tolist()\n",
    "with open(r\"D:\\Swiggy\\data\\encoder.pkl\", 'wb') as f:\n",
    "    pickle.dump(encoder, f)\n",
    "\n",
    "print(\"pkl file saved successfully\")"
   ]
  },
  {
   "cell_type": "code",
   "execution_count": 35,
   "id": "3f1a65ad",
   "metadata": {},
   "outputs": [
    {
     "name": "stdout",
     "output_type": "stream",
     "text": [
      "KMeans clustering done and saved!\n"
     ]
    }
   ],
   "source": [
    "import pandas as pd\n",
    "from sklearn.cluster import KMeans\n",
    "from sklearn.preprocessing import StandardScaler\n",
    "import pickle\n",
    "\n",
    "df_encoded = pd.read_csv(r\"D:\\Swiggy\\data\\encoded_data.csv\")\n",
    "\n",
    "df_cluster = df_encoded.drop(columns=['id', 'name', 'lic_no', 'link', 'address', 'menu'])\n",
    "\n",
    "# Scale the data\n",
    "scaler = StandardScaler()\n",
    "X_scaled = scaler.fit_transform(df_cluster)\n",
    "\n",
    "#Apply KMeans clustering\n",
    "kmeans = KMeans(n_clusters=5, random_state=42)\n",
    "clusters = kmeans.fit_predict(X_scaled)\n",
    "\n",
    "# Add cluster labels to original data\n",
    "df_encoded['cluster'] = clusters\n",
    "\n",
    "# Save clustered data\n",
    "df_encoded.to_csv(r\"D:\\Swiggy\\data\\clustered_data.csv\", index=False)\n",
    "\n",
    "with open(r\"D:\\Swiggy\\data\\scaler.pkl\", 'wb') as f:\n",
    "    pickle.dump(scaler, f)\n",
    "\n",
    "with open(r\"D:\\Swiggy\\data\\kmeans_model.pkl\", 'wb') as f:\n",
    "    pickle.dump(kmeans, f)\n",
    "\n",
    "print(\"KMeans clustering done and saved!\")\n"
   ]
  },
  {
   "cell_type": "code",
   "execution_count": 36,
   "id": "6b3d4e40",
   "metadata": {},
   "outputs": [],
   "source": [
    "import pandas as pd\n",
    "import numpy as np\n",
    "import pickle\n",
    "\n",
    "# Load encoded & clustered data\n",
    "df_encoded = pd.read_csv(r\"D:\\Swiggy\\data\\encoded_data.csv\")\n",
    "df_clustered = pd.read_csv(r\"D:\\Swiggy\\data\\clustered_data.csv\")\n",
    "\n",
    "with open(r\"D:\\Swiggy\\data\\encoder.pkl\", 'rb') as f:\n",
    "    encoder = pickle.load(f)\n",
    "\n",
    "with open(r\"D:\\Swiggy\\data\\scaler.pkl\", 'rb') as f:\n",
    "    scaler = pickle.load(f)\n",
    "\n",
    "with open(r\"D:\\Swiggy\\data\\kmeans_model.pkl\", 'rb') as f:\n",
    "    kmeans = pickle.load(f)\n",
    "\n",
    "cleaned_df = pd.read_csv(r\"D:\\Swiggy\\data\\cleaned_data.csv\")\n",
    "\n",
    "cleaned_df['cluster'] = df_clustered['cluster']\n",
    "\n",
    "df_multi = cleaned_df.copy()\n",
    "df_multi['cuisine'] = df_multi['cuisine'].str.split(',')\n",
    "df_multi = df_multi.explode('cuisine')\n",
    "df_multi['cuisine'] = df_multi['cuisine'].str.strip()\n",
    "\n",
    "# ---------- Recommendation Function ----------\n",
    "def recommend_restaurants(city, cuisine, rating, cost, top_n=5):\n",
    "    # Create a single-row input DataFrame matching encoder columns\n",
    "    input_data = pd.DataFrame(columns=encoder)\n",
    "    input_data.loc[0] = 0  # initialize with zeros\n",
    "\n",
    "    input_data.at[0, 'rating'] = rating\n",
    "    input_data.at[0, 'rating_count'] = 100  # assume average rating count\n",
    "    input_data.at[0, 'cost'] = cost\n",
    "\n",
    "    city_col = f'city_{city}'\n",
    "    cuisine_col = f'cuisine_{cuisine}'\n",
    "\n",
    "    if city_col in input_data.columns:\n",
    "        input_data.at[0, city_col] = 1\n",
    "    if cuisine_col in input_data.columns:\n",
    "        input_data.at[0, cuisine_col] = 1\n",
    "\n",
    "    feature_input = input_data.drop(columns=['id', 'name', 'lic_no', 'link', 'address', 'menu', 'cluster'], errors='ignore')\n",
    "    scaled_input = scaler.transform(feature_input)\n",
    "\n",
    "    cluster_label = kmeans.predict(scaled_input)[0]\n",
    "\n",
    "    # Filter similar restaurants\n",
    "    similar_restaurants = df_multi[df_multi['cluster'] == cluster_label]\n",
    "\n",
    "    # Sort by rating and get top N unique restaurants\n",
    "    top_n_results = similar_restaurants.sort_values(by='rating', ascending=False)\n",
    "    top_n_results = top_n_results.drop_duplicates(subset='name').head(top_n)\n",
    "\n",
    "    return top_n_results[['name', 'city', 'cuisine', 'rating', 'cost']]\n",
    "\n"
   ]
  },
  {
   "cell_type": "code",
   "execution_count": 37,
   "id": "267df1a1",
   "metadata": {},
   "outputs": [
    {
     "name": "stdout",
     "output_type": "stream",
     "text": [
      "                                                  name  \\\n",
      "7829   Lubov Patisserie - Cakes, Macarons and Desserts   \n",
      "31134                                      Momo Street   \n",
      "31138                           Gobblers Rolls & Bowls   \n",
      "21837                                    HRX by Eatfit   \n",
      "46253                                  Nawab'z Kitchen   \n",
      "\n",
      "                              city       cuisine  rating  cost  \n",
      "7829   Basaveshwaranagar,Bangalore        Bakery     5.0   500  \n",
      "31134       Abids & Koti,Hyderabad       Chinese     5.0   300  \n",
      "31138       Abids & Koti,Hyderabad  North Indian     5.0   300  \n",
      "21837            Mayur Vihar,Delhi        Salads     5.0   270  \n",
      "46253                Airoli,Mumbai  North Indian     5.0   450  \n"
     ]
    }
   ],
   "source": [
    "\n",
    "# ✅ Example test\n",
    "recommendations = recommend_restaurants(city=\"Chennai\", cuisine=\"Chinese\", rating=4.0, cost=300, top_n=5)\n",
    "print(recommendations)"
   ]
  }
 ],
 "metadata": {
  "kernelspec": {
   "display_name": "Python 3",
   "language": "python",
   "name": "python3"
  },
  "language_info": {
   "codemirror_mode": {
    "name": "ipython",
    "version": 3
   },
   "file_extension": ".py",
   "mimetype": "text/x-python",
   "name": "python",
   "nbconvert_exporter": "python",
   "pygments_lexer": "ipython3",
   "version": "3.12.8"
  }
 },
 "nbformat": 4,
 "nbformat_minor": 5
}
